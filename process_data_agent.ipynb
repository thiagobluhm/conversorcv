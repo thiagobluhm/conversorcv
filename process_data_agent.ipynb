{
 "cells": [
  {
   "cell_type": "code",
   "execution_count": 1,
   "metadata": {},
   "outputs": [],
   "source": [
    "import os\n",
    "import logging\n",
    "import json\n",
    "import re\n",
    "from dotenv import load_dotenv\n",
    "from langchain.prompts import PromptTemplate\n",
    "from langchain_openai import ChatOpenAI\n",
    "from langchain.agents import initialize_agent, AgentType\n",
    "from langchain_experimental.tools import PythonREPLTool\n",
    "from langchain.hub import pull as hub_pull\n",
    "from PyPDF2 import PdfReader  "
   ]
  },
  {
   "cell_type": "code",
   "execution_count": 2,
   "metadata": {},
   "outputs": [],
   "source": [
    "# Carrega variáveis de ambiente\n",
    "load_dotenv()\n",
    "api_key = os.getenv('OPENAI_API_KEY')\n",
    "\n",
    "# Verifica a chave da API\n",
    "if not api_key:\n",
    "    raise ValueError(\"OPENAI_API_KEY não encontrada nas variáveis de ambiente. Verifique seu arquivo .env.\")\n",
    "\n",
    "# Configuração de logging\n",
    "logging.basicConfig(level=logging.INFO)\n",
    "logger = logging.getLogger(__name__)"
   ]
  },
  {
   "cell_type": "code",
   "execution_count": 3,
   "metadata": {},
   "outputs": [],
   "source": [
    "# Inicializa o LLM com configurações especificadas\n",
    "def initialize_llm():\n",
    "    return ChatOpenAI(\n",
    "        temperature=0.1,\n",
    "        model=\"gpt-4o-mini\",\n",
    "        api_key=api_key,\n",
    "        verbose=True\n",
    "    )\n",
    "\n",
    "# Cria o agente ReAct com suporte para execução em Python\n",
    "def create_react_agent(llm):\n",
    "    try:\n",
    "        react_prompt_template = hub_pull(\"hwchase17/react\")\n",
    "        tools = [PythonREPLTool()]\n",
    "        agent = initialize_agent(\n",
    "            tools,\n",
    "            llm,\n",
    "            agent=AgentType.ZERO_SHOT_REACT_DESCRIPTION,\n",
    "            verbose=True,\n",
    "            handle_parsing_errors=True,\n",
    "            agent_kwargs={\"prompt\": react_prompt_template}\n",
    "        )\n",
    "        return agent\n",
    "    except Exception as e:\n",
    "        logger.error(\"Erro ao criar o agente ReAct: %s\", e)\n",
    "        raise\n",
    "\n",
    "# Função para processar texto e extrair informações em JSON\n",
    "def process_text(texto):\n",
    "    question = f\"\"\"\n",
    "**IDENTIDADE**:\n",
    "Você é um Tech Recruiter especializado em extração de informações estruturadas e análise precisa de currículos.\n",
    "\n",
    "**OBJETIVO**:\n",
    "Extrair informações completas e detalhadas do texto do CV e organizá-las em um formato JSON estruturado e claro.\n",
    "Responder em Português Brasil\n",
    "\n",
    "**TEXTO DO CV**:\n",
    "{texto}\n",
    "\n",
    "**INSTRUÇÕES**:\n",
    "- Extraia **todas as informações relevantes** do CV.\n",
    "- Retorne o resultado como um JSON bem estruturado, conforme o modelo fornecido.\n",
    "- Use descrições diretas e concisas.\n",
    "- Se algum dado estiver ausente, preencha com uma string vazia (\"\") ou uma lista vazia ([]), conforme aplicável.\n",
    "- Assegure-se de que o JSON seja legível e bem formatado.\n",
    "\n",
    "**FORMATO DE RESPOSTA**:\n",
    "- Utilize **PythonREPLTool** para gerar uma lista de dicionários Python seguindo o exemplo de estrutura abaixo:\n",
    "{{\n",
    "    \"informacoes_pessoais\": {{\n",
    "        \"nome\": \"Nome Completo\",\n",
    "        \"cidade\": \"Cidade, Estado/País\",\n",
    "        \"bairro\": \"Bairro Opcional\",\n",
    "        \"email\": \"email@exemplo.com\",\n",
    "        \"telefone\": \"Telefone Opcional\",\n",
    "        \"cargo\": \"Cargo Atual ou Desejado\"\n",
    "    }},\n",
    "    \"resumo_qualificacoes\": [{{\n",
    "        \"resumo\": \"Visão geral profissional breve\",\n",
    "        \"qualificacoes_chave\": [\n",
    "            {{\"qualificacao\": \"Habilidade ou realização importante\"}},\n",
    "            {{\"qualificacao\": \"Outra habilidade importante\"}}\n",
    "        ]\n",
    "    }}],\n",
    "    \"experiencia_profissional\": [\n",
    "        {{\n",
    "            \"empresa\": \"Nome da Empresa\",\n",
    "            \"cargo\": \"Título do Cargo\",\n",
    "            \"periodo\": \"Data de Início - Data de Término\",\n",
    "            \"atividades\": [\n",
    "                {{\"atividade\": \"Responsabilidade ou realização chave\"}},\n",
    "                {{\"atividade\": \"Outra responsabilidade importante\"}}\n",
    "            ],\n",
    "            \"projetos\": [\n",
    "                {{\"titulo\": \"Nome do Projeto\", \"descricao\": \"Descrição do projeto\"}}\n",
    "            ]\n",
    "        }}\n",
    "    ],\n",
    "    \"educacao\": [\n",
    "        {{\n",
    "            \"instituicao\": \"Nome da Escola/Universidade\",\n",
    "            \"grau\": \"Grau ou Certificação\",\n",
    "            \"ano_formatura\": \"Ano\"\n",
    "        }}\n",
    "    ],\n",
    "    \"certificacoes\": [\n",
    "        {{\"certificado\": \"Nome da Certificação\"}}\n",
    "    ]\n",
    "}}\n",
    "\n",
    "**REQUISITOS FINAIS**:\n",
    "- Retorne apenas o JSON sem aspas adicionais, sem palavras ou caracteres extras como \"'''python\" ou \"'''json\", e sem variáveis ou explicações.\n",
    "- Certifique-se de que o JSON gerado esteja em formato de lista de dicionários, diretamente utilizável.\n",
    "\"\"\"\n",
    "    try:\n",
    "        llm = initialize_llm()\n",
    "        agent = create_react_agent(llm)\n",
    "        response = agent.run(question)\n",
    "        \n",
    "        # Parse JSON response string\n",
    "        dados_curriculo = json.loads(response)\n",
    "        return dados_curriculo\n",
    "        \n",
    "    except Exception as e:\n",
    "        logger.error(\"Erro ao processar o texto: %s\", e)\n",
    "        return {\"error\": str(e)}\n",
    "\n",
    "# Função para limpar e normalizar o texto extraído\n",
    "def limpar_texto(texto):\n",
    "    texto = re.sub(r'\\s+', ' ', texto)\n",
    "    texto = re.sub(r'\\n*Página \\d+ de \\d+\\n*', '', texto)\n",
    "    texto = re.sub(r'\\n{3,}', '\\n\\n', texto)\n",
    "    return texto.strip()\n",
    "\n",
    "# Função para extrair texto de um arquivo PDF\n",
    "def extrair_texto_de_pdf(caminho_pdf):\n",
    "    try:\n",
    "        leitor_pdf = PdfReader(caminho_pdf)\n",
    "        texto = \"\\n\".join([pagina.extract_text() for pagina in leitor_pdf.pages])\n",
    "        texto_limpo = limpar_texto(texto)\n",
    "        return texto_limpo\n",
    "    except Exception as e:\n",
    "        logger.error(\"Erro ao extrair texto do PDF: %s\", e)\n",
    "        return \"\"\n",
    "\n",
    "# Função principal para processar o PDF e gerar o JSON do currículo\n",
    "def main(caminho_pdf):\n",
    "    texto_pdf = extrair_texto_de_pdf(caminho_pdf)\n",
    "    if not texto_pdf:\n",
    "        logger.info(\"Nenhum texto pôde ser extraído do PDF.\")\n",
    "        return None\n",
    "\n",
    "    dados_curriculo = process_text(texto_pdf)\n",
    "    if dados_curriculo:\n",
    "        logger.info(\"Currículo processado com sucesso.\")\n",
    "        print(json.dumps(dados_curriculo, indent=4, ensure_ascii=False))\n",
    "    else:\n",
    "        logger.error(\"Falha ao processar o currículo.\")\n",
    "\n"
   ]
  },
  {
   "cell_type": "code",
   "execution_count": null,
   "metadata": {},
   "outputs": [
    {
     "data": {
      "text/plain": [
       "{'informacoes_pessoais': {'nome': 'Tiago Vettorazzi',\n",
       "  'cidade': 'Fortaleza, Ceará, Brasil',\n",
       "  'email': 'tiagovetto@gmail.com',\n",
       "  'telefone': '',\n",
       "  'cargo': 'Analista de Dados | BI | Big Data'},\n",
       " 'resumo_qualificacoes': ['Python', 'Inglês', 'Microsoft Power BI'],\n",
       " 'experiencia_profissional': [{'empresa': 'Grupo Portfolio',\n",
       "   'cargo': 'Analista de BI',\n",
       "   'periodo': 'julho de 2024 - Present',\n",
       "   'local': 'Fortaleza',\n",
       "   'atividades_exercidas': [],\n",
       "   'ferramentas': ['Power BI']},\n",
       "  {'empresa': 'Grupo Portfolio',\n",
       "   'cargo': 'Estagiário de BI',\n",
       "   'periodo': 'agosto de 2023 - julho de 2024',\n",
       "   'local': 'Fortaleza',\n",
       "   'atividades_exercidas': [],\n",
       "   'ferramentas': ['Power BI']},\n",
       "  {'empresa': 'SME/COGEP - Coordenadoria de Gestão de Pessoas da SME',\n",
       "   'cargo': 'Assistente administrativo',\n",
       "   'periodo': 'novembro de 2019 - outubro de 2021',\n",
       "   'local': 'Fortaleza',\n",
       "   'atividades_exercidas': [],\n",
       "   'ferramentas': []}],\n",
       " 'educacao': [{'instituicao': 'Universidade de Fortaleza - UNIFOR',\n",
       "   'curso': 'Pós-graduação Lato Sensu - MBA, Gestão Analítica com BI e Big Data',\n",
       "   'periodo': 'outubro de 2022 - agosto de 2024'},\n",
       "  {'instituicao': 'Universidade Estadual do Ceará',\n",
       "   'curso': 'Bacharelado em Administração, Administração de Empresas',\n",
       "   'periodo': 'julho de 2017 - julho de 2022'}],\n",
       " 'certificacoes': ['Microsoft Power BI Para Data Science, Versão 2.0',\n",
       "  'Análise de Dados com Microsoft Power BI e Clínica de BI',\n",
       "  'Microsoft Power BI Para Data Science, Versão 2.0',\n",
       "  'Microsoft Power BI Para Data Science, Versão 2.0',\n",
       "  'Análise de Dados com Microsoft Power BI e Clínica de BI',\n",
       "  'Curso de Língua Inglesa UPPER',\n",
       "  'Formação SQL com PostgreSQL',\n",
       "  'Formação Python para Data Science']}"
      ]
     },
     "execution_count": 14,
     "metadata": {},
     "output_type": "execute_result"
    }
   ],
   "source": []
  },
  {
   "cell_type": "code",
   "execution_count": null,
   "metadata": {},
   "outputs": [
    {
     "name": "stdout",
     "output_type": "stream",
     "text": [
      "{'informacoes_pessoais': {'nome': 'Tiago Vettorazzi', 'cidade': 'Fortaleza, Ceará, Brasil', 'email': 'tiagovetto@gmail.com', 'telefone': '', 'cargo': 'Analista de Dados | BI | Big Data'}, 'resumo_qualificacoes': ['Python', 'Inglês', 'Microsoft Power BI', 'Formado em Administração de Empresas pela Universidade Estadual do Ceará (UECE)', 'Pós Graduado em Gestão Analítica com BI e Big Data'], 'experiencia_profissional': [{'empresa': 'Grupo Portfolio', 'cargo': 'Analista de BI', 'periodo': 'julho de 2024 - Present', 'local': 'Fortaleza', 'atividades_exercidas': [], 'ferramentas': []}, {'empresa': 'Grupo Portfolio', 'cargo': 'Estagiário de BI', 'periodo': 'agosto de 2023 - julho de 2024', 'local': 'Fortaleza', 'atividades_exercidas': [], 'ferramentas': []}, {'empresa': 'SME/COGEP - Coordenadoria de Gestão de Pessoas da SME', 'cargo': 'Assistente administrativo', 'periodo': 'novembro de 2019 - outubro de 2021', 'local': 'Fortaleza', 'atividades_exercidas': [], 'ferramentas': []}], 'educacao': [{'instituicao': 'Universidade de Fortaleza - UNIFOR', 'curso': 'Pós-graduação Lato Sensu - MBA, Gestão Analítica com BI e Big Data', 'periodo': 'outubro de 2022 - agosto de 2024'}, {'instituicao': 'Universidade Estadual do Ceará', 'curso': 'Bacharelado em Administração, Administração de Empresas', 'periodo': 'julho de 2017 - julho de 2022'}], 'certificacoes': ['Microsoft Power BI Para Data Science, Versão 2.0', 'Análise de Dados com Microsoft Power BI e Clínica de BI', 'Curso de Língua Inglesa UPPER', 'Formação SQL com PostgreSQL', 'Formação Python para Data Science']}\n"
     ]
    }
   ],
   "source": [
    "conteudo"
   ]
  },
  {
   "cell_type": "code",
   "execution_count": 15,
   "metadata": {},
   "outputs": [
    {
     "name": "stdout",
     "output_type": "stream",
     "text": [
      "Tiago Vettorazzi\n"
     ]
    }
   ],
   "source": [
    "# dados\n",
    "print(conteudo['informacoes_pessoais']['nome'])\n",
    "# dados"
   ]
  },
  {
   "cell_type": "code",
   "execution_count": null,
   "metadata": {},
   "outputs": [],
   "source": []
  },
  {
   "cell_type": "code",
   "execution_count": 8,
   "metadata": {},
   "outputs": [],
   "source": [
    "CONTEUDO = {'Nome': 'Tiago Vettorazzi', 'formacao': [{'grau': 'MBA', 'curso': 'Gestão Analítica com BI e Big Data', 'instituicao': 'Universidade de Fortaleza - UNIFOR', 'conclusao': '2024'}, {'grau': 'Bacharel', 'curso': 'Administração de Empresas', 'instituicao': 'Universidade Estadual do Ceará', 'conclusao': '2022'}], 'competencias': ['Python', 'Inglês', 'Microsoft Power BI', 'SQL'], 'perfil_profissional': ['Tiago atua como Analista de BI no Grupo Portfolio em Fortaleza desde julho de 2024. Anteriormente, foi Estagiário de BI na mesma empresa de agosto de 2023 a julho de 2024. Antes disso, trabalhou como Assistente administrativo na SME/COGEP em Fortaleza de novembro de 2019 a outubro de 2021.', 'Possui competências em Python, Microsoft Power BI e SQL, além de proficiência em inglês. Participou de projetos de análise de dados e desenvolvimento de soluções de BI, aplicando técnicas avançadas de análise para otimizar processos e gerar insights estratégicos.'], 'disponibilidade': 'Hoje', 'modalidade': 'Remoto', 'dados_pessoais': '26 anos, solteiro, residente em Fortaleza', 'perfil_comportamental': '', 'responsavel': 'Tiago'}"
   ]
  },
  {
   "cell_type": "code",
   "execution_count": 9,
   "metadata": {},
   "outputs": [
    {
     "data": {
      "text/plain": [
       "{'Nome': 'Tiago Vettorazzi',\n",
       " 'formacao': [{'grau': 'MBA',\n",
       "   'curso': 'Gestão Analítica com BI e Big Data',\n",
       "   'instituicao': 'Universidade de Fortaleza - UNIFOR',\n",
       "   'conclusao': '2024'},\n",
       "  {'grau': 'Bacharel',\n",
       "   'curso': 'Administração de Empresas',\n",
       "   'instituicao': 'Universidade Estadual do Ceará',\n",
       "   'conclusao': '2022'}],\n",
       " 'competencias': ['Python', 'Inglês', 'Microsoft Power BI', 'SQL'],\n",
       " 'perfil_profissional': ['Tiago atua como Analista de BI no Grupo Portfolio em Fortaleza desde julho de 2024. Anteriormente, foi Estagiário de BI na mesma empresa de agosto de 2023 a julho de 2024. Antes disso, trabalhou como Assistente administrativo na SME/COGEP em Fortaleza de novembro de 2019 a outubro de 2021.',\n",
       "  'Possui competências em Python, Microsoft Power BI e SQL, além de proficiência em inglês. Participou de projetos de análise de dados e desenvolvimento de soluções de BI, aplicando técnicas avançadas de análise para otimizar processos e gerar insights estratégicos.'],\n",
       " 'disponibilidade': 'Hoje',\n",
       " 'modalidade': 'Remoto',\n",
       " 'dados_pessoais': '26 anos, solteiro, residente em Fortaleza',\n",
       " 'perfil_comportamental': '',\n",
       " 'responsavel': 'Tiago'}"
      ]
     },
     "execution_count": 9,
     "metadata": {},
     "output_type": "execute_result"
    }
   ],
   "source": [
    "CONTEUDO"
   ]
  },
  {
   "cell_type": "code",
   "execution_count": 10,
   "metadata": {},
   "outputs": [
    {
     "data": {
      "text/plain": [
       "'Tiago'"
      ]
     },
     "execution_count": 10,
     "metadata": {},
     "output_type": "execute_result"
    }
   ],
   "source": [
    "CONTEUDO['responsavel']"
   ]
  }
 ],
 "metadata": {
  "kernelspec": {
   "display_name": "apprh (3.12.6)",
   "language": "python",
   "name": "python3"
  },
  "language_info": {
   "codemirror_mode": {
    "name": "ipython",
    "version": 3
   },
   "file_extension": ".py",
   "mimetype": "text/x-python",
   "name": "python",
   "nbconvert_exporter": "python",
   "pygments_lexer": "ipython3",
   "version": "3.12.6"
  }
 },
 "nbformat": 4,
 "nbformat_minor": 2
}
